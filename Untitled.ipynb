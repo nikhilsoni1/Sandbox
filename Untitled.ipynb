{
 "cells": [
  {
   "cell_type": "code",
   "execution_count": 14,
   "metadata": {},
   "outputs": [],
   "source": [
    "import random\n",
    "def calc_pi(n):\n",
    "    c = 0\n",
    "    for ctr in range(n):\n",
    "        u1 = random.uniform(0,1)\n",
    "        u2 = random.uniform(0,1)\n",
    "        d = u1**2 + u2**2\n",
    "        if d<=1:\n",
    "            c += 1\n",
    "    pi = 4*(c/n)\n",
    "    return pi"
   ]
  },
  {
   "cell_type": "code",
   "execution_count": 33,
   "metadata": {},
   "outputs": [
    {
     "name": "stdout",
     "output_type": "stream",
     "text": [
      "3.1414464\n"
     ]
    }
   ],
   "source": [
    "store = list()\n",
    "for i in range(10):\n",
    "    x = calc_pi(1000000)\n",
    "    store.append(x)\n",
    "s = sum(store)\n",
    "print(s/len(store))"
   ]
  },
  {
   "cell_type": "code",
   "execution_count": null,
   "metadata": {},
   "outputs": [],
   "source": []
  }
 ],
 "metadata": {
  "kernelspec": {
   "display_name": "Python 3",
   "language": "python",
   "name": "python3"
  },
  "language_info": {
   "codemirror_mode": {
    "name": "ipython",
    "version": 3
   },
   "file_extension": ".py",
   "mimetype": "text/x-python",
   "name": "python",
   "nbconvert_exporter": "python",
   "pygments_lexer": "ipython3",
   "version": "3.7.0"
  }
 },
 "nbformat": 4,
 "nbformat_minor": 2
}
